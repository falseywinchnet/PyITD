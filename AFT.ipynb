{
  "cells": [
    {
      "cell_type": "markdown",
      "metadata": {
        "id": "view-in-github",
        "colab_type": "text"
      },
      "source": [
        "<a href=\"https://colab.research.google.com/github/falseywinchnet/PyITD/blob/main/AFT.ipynb\" target=\"_parent\"><img src=\"https://colab.research.google.com/assets/colab-badge.svg\" alt=\"Open In Colab\"/></a>"
      ]
    },
    {
      "cell_type": "markdown",
      "source": [
        "Accumulator Fourier Transform: Question. Is it possible for us to decompose the fourier transform into a series of harmonically overlapping indexing at value? and as a result, can we rapidly perform some transposing and copying into scratch memory, and rapidly integrate over series of values that are consecutive in that we are essentially performing the FFT, but instead of doing so by the use of accumulators in butterfly space, we instead essentially roll out the carpet, duplicate our data the minimum number of times, using slicing, to create an alternative path through phase space that allows us to much more effectively vectorize the operations ? Suppose that we accepted a tradeoff in that this transform would be less efficient than the FFT, but more than the DFT, like the FFT it is an attempt to find the sort order internally, using overlapping harmonics and temporary storage, and, just like how the fft is related to sorting(and optimal) we can approach optimality but surrender some of it in order to get better contigious operations and sequential accumulation. This could be faster than the FFT- we can reason that iti s quick to multiply a bunch of numbers in a an array by just one coefficient, and then repeatedly sum them up by parts and add them together. if you decide to poke aroud with this and get somewhere, HMU"
      ],
      "metadata": {
        "id": "A0ZkjhMz4q_6"
      }
    },
    {
      "cell_type": "code",
      "execution_count": null,
      "metadata": {
        "id": "zwFnJsE6vjf8",
        "outputId": "0dcc33cb-40a4-4225-dc40-76abfc61ece5",
        "colab": {
          "base_uri": "https://localhost:8080/"
        }
      },
      "outputs": [
        {
          "output_type": "stream",
          "name": "stdout",
          "text": [
            "Number of unique values after rounding: 257\n"
          ]
        }
      ],
      "source": [
        "import numpy as np\n",
        "\n",
        "N = 512\n",
        "k = np.arange(N)[:, np.newaxis]  # frequency bins\n",
        "n = np.arange(N)                 # time indices\n",
        "\n",
        "# Generate the real (cosine) parts\n",
        "real_parts = np.cos(2 * np.pi * k * n / N)\n",
        "# Generate the imaginary (sine) parts\n",
        "imag_parts = -np.sin(2 * np.pi * k * n / N)\n",
        "\n",
        "# Stack them vertically and round to 8 decimals\n",
        "full_matrix = np.round(np.vstack([real_parts, imag_parts]), decimals=10)\n",
        "\n",
        "# Let's see how many unique values we actually have\n",
        "unique_values = np.unique(full_matrix)\n",
        "print(f\"Number of unique values after rounding: {len(unique_values)}\")"
      ]
    },
    {
      "cell_type": "code",
      "source": [
        "import numpy as np\n",
        "from sympy import Symbol\n",
        "\n",
        "# Using our existing full_matrix\n",
        "unique_values = np.unique(full_matrix)\n",
        "# Create a mapping of value -> symbol\n",
        "value_to_symbol = {val: Symbol(f'v_{i}') for i, val in enumerate(unique_values)}\n",
        "\n",
        "# Convert our numerical matrix to symbolic\n",
        "symbolic_matrix = np.empty(full_matrix.shape, dtype=object)\n",
        "for i in range(full_matrix.shape[0]):\n",
        "    for j in range(full_matrix.shape[1]):\n",
        "        symbolic_matrix[i,j] = value_to_symbol[full_matrix[i,j]]"
      ],
      "metadata": {
        "id": "T7unAJniqtgx"
      },
      "execution_count": null,
      "outputs": []
    },
    {
      "cell_type": "code",
      "source": [
        "def find_harmonics(k, max_freq=512):\n",
        "    \"\"\"Find all harmonic frequencies of k up to max_freq\"\"\"\n",
        "    harmonics = []\n",
        "    n = 2\n",
        "    while k * n < max_freq:\n",
        "        harmonics.append(k * n)\n",
        "        n += 1\n",
        "    return harmonics\n",
        "\n",
        "def compute_overlap(symbolic_matrix, k1, k2):\n",
        "    \"\"\"Compute overlap between two frequency bins\"\"\"\n",
        "    # Get both real and imaginary parts\n",
        "    bin1_real = symbolic_matrix[k1, :]\n",
        "    bin1_imag = symbolic_matrix[k1 + 512, :]\n",
        "    bin2_real = symbolic_matrix[k2, :]\n",
        "    bin2_imag = symbolic_matrix[k2 + 512, :]\n",
        "\n",
        "    # Find common symbols\n",
        "    symbols1 = set(list(bin1_real) + list(bin1_imag))\n",
        "    symbols2 = set(list(bin2_real) + list(bin2_imag))\n",
        "\n",
        "    return len(symbols1.intersection(symbols2))\n",
        "\n",
        "# Let's analyze first few fundamental frequencies\n",
        "for k in range(1, 10):  # Start with small k to see pattern clearly\n",
        "    harmonics = find_harmonics(k)\n",
        "    print(f\"\\nFundamental frequency {k} harmonics:\")\n",
        "    for h in harmonics[:5]:  # Look at first 5 harmonics\n",
        "        overlap = compute_overlap(symbolic_matrix, k, h)\n",
        "        print(f\"  Harmonic {h}: {overlap} shared symbols\")"
      ],
      "metadata": {
        "id": "gwOTYDbQrD98",
        "outputId": "40e866eb-d9d7-47c7-e35e-c9fa929747bb",
        "colab": {
          "base_uri": "https://localhost:8080/"
        }
      },
      "execution_count": null,
      "outputs": [
        {
          "output_type": "stream",
          "name": "stdout",
          "text": [
            "\n",
            "Fundamental frequency 1 harmonics:\n",
            "  Harmonic 2: 129 shared symbols\n",
            "  Harmonic 3: 257 shared symbols\n",
            "  Harmonic 4: 65 shared symbols\n",
            "  Harmonic 5: 257 shared symbols\n",
            "  Harmonic 6: 129 shared symbols\n",
            "\n",
            "Fundamental frequency 2 harmonics:\n",
            "  Harmonic 4: 65 shared symbols\n",
            "  Harmonic 6: 129 shared symbols\n",
            "  Harmonic 8: 33 shared symbols\n",
            "  Harmonic 10: 129 shared symbols\n",
            "  Harmonic 12: 65 shared symbols\n",
            "\n",
            "Fundamental frequency 3 harmonics:\n",
            "  Harmonic 6: 129 shared symbols\n",
            "  Harmonic 9: 257 shared symbols\n",
            "  Harmonic 12: 65 shared symbols\n",
            "  Harmonic 15: 257 shared symbols\n",
            "  Harmonic 18: 129 shared symbols\n",
            "\n",
            "Fundamental frequency 4 harmonics:\n",
            "  Harmonic 8: 33 shared symbols\n",
            "  Harmonic 12: 65 shared symbols\n",
            "  Harmonic 16: 17 shared symbols\n",
            "  Harmonic 20: 65 shared symbols\n",
            "  Harmonic 24: 33 shared symbols\n",
            "\n",
            "Fundamental frequency 5 harmonics:\n",
            "  Harmonic 10: 129 shared symbols\n",
            "  Harmonic 15: 257 shared symbols\n",
            "  Harmonic 20: 65 shared symbols\n",
            "  Harmonic 25: 257 shared symbols\n",
            "  Harmonic 30: 129 shared symbols\n",
            "\n",
            "Fundamental frequency 6 harmonics:\n",
            "  Harmonic 12: 65 shared symbols\n",
            "  Harmonic 18: 129 shared symbols\n",
            "  Harmonic 24: 33 shared symbols\n",
            "  Harmonic 30: 129 shared symbols\n",
            "  Harmonic 36: 65 shared symbols\n",
            "\n",
            "Fundamental frequency 7 harmonics:\n",
            "  Harmonic 14: 129 shared symbols\n",
            "  Harmonic 21: 257 shared symbols\n",
            "  Harmonic 28: 65 shared symbols\n",
            "  Harmonic 35: 257 shared symbols\n",
            "  Harmonic 42: 129 shared symbols\n",
            "\n",
            "Fundamental frequency 8 harmonics:\n",
            "  Harmonic 16: 17 shared symbols\n",
            "  Harmonic 24: 33 shared symbols\n",
            "  Harmonic 32: 9 shared symbols\n",
            "  Harmonic 40: 33 shared symbols\n",
            "  Harmonic 48: 17 shared symbols\n",
            "\n",
            "Fundamental frequency 9 harmonics:\n",
            "  Harmonic 18: 129 shared symbols\n",
            "  Harmonic 27: 257 shared symbols\n",
            "  Harmonic 36: 65 shared symbols\n",
            "  Harmonic 45: 257 shared symbols\n",
            "  Harmonic 54: 129 shared symbols\n"
          ]
        }
      ]
    },
    {
      "cell_type": "code",
      "source": [
        "def create_accumulator_group(k):\n",
        "   \"\"\"Create accumulator group for fundamental k and its harmonics\"\"\"\n",
        "   harmonics = find_harmonics(k)\n",
        "   overlaps = [(h, compute_overlap(symbolic_matrix, k, h)) for h in harmonics]\n",
        "\n",
        "   # Sort by overlap amount to identify highest reuse potential\n",
        "   sorted_overlaps = sorted(overlaps, key=lambda x: x[1], reverse=True)\n",
        "\n",
        "   # Group by overlap amount\n",
        "   groups = {}\n",
        "   for harmonic, overlap in sorted_overlaps:\n",
        "       if overlap not in groups:\n",
        "           groups[overlap] = []\n",
        "       groups[overlap].append(harmonic)\n",
        "\n",
        "   return groups\n",
        "\n",
        "# Let's examine a few odd fundamentals\n",
        "for k in [1,3,5,7,9]:\n",
        "   groups = create_accumulator_group(k)\n",
        "   print(f\"\\nFundamental {k} accumulator groups:\")\n",
        "   for overlap, harmonics in groups.items():\n",
        "       print(f\"  Overlap {overlap}: frequencies {harmonics}\")"
      ],
      "metadata": {
        "id": "qzwhnDgrsQ2k",
        "outputId": "dc980426-6022-4d87-860d-2f2a1813f57a",
        "colab": {
          "base_uri": "https://localhost:8080/"
        }
      },
      "execution_count": null,
      "outputs": [
        {
          "output_type": "stream",
          "name": "stdout",
          "text": [
            "\n",
            "Fundamental 1 accumulator groups:\n",
            "  Overlap 257: frequencies [3, 5, 7, 9, 11, 13, 15, 17, 19, 21, 23, 25, 27, 29, 31, 33, 35, 37, 39, 41, 43, 45, 47, 49, 51, 53, 55, 57, 59, 61, 63, 65, 67, 69, 71, 73, 75, 77, 79, 81, 83, 85, 87, 89, 91, 93, 95, 97, 99, 101, 103, 105, 107, 109, 111, 113, 115, 117, 119, 121, 123, 125, 127, 129, 131, 133, 135, 137, 139, 141, 143, 145, 147, 149, 151, 153, 155, 157, 159, 161, 163, 165, 167, 169, 171, 173, 175, 177, 179, 181, 183, 185, 187, 189, 191, 193, 195, 197, 199, 201, 203, 205, 207, 209, 211, 213, 215, 217, 219, 221, 223, 225, 227, 229, 231, 233, 235, 237, 239, 241, 243, 245, 247, 249, 251, 253, 255, 257, 259, 261, 263, 265, 267, 269, 271, 273, 275, 277, 279, 281, 283, 285, 287, 289, 291, 293, 295, 297, 299, 301, 303, 305, 307, 309, 311, 313, 315, 317, 319, 321, 323, 325, 327, 329, 331, 333, 335, 337, 339, 341, 343, 345, 347, 349, 351, 353, 355, 357, 359, 361, 363, 365, 367, 369, 371, 373, 375, 377, 379, 381, 383, 385, 387, 389, 391, 393, 395, 397, 399, 401, 403, 405, 407, 409, 411, 413, 415, 417, 419, 421, 423, 425, 427, 429, 431, 433, 435, 437, 439, 441, 443, 445, 447, 449, 451, 453, 455, 457, 459, 461, 463, 465, 467, 469, 471, 473, 475, 477, 479, 481, 483, 485, 487, 489, 491, 493, 495, 497, 499, 501, 503, 505, 507, 509, 511]\n",
            "  Overlap 129: frequencies [2, 6, 10, 14, 18, 22, 26, 30, 34, 38, 42, 46, 50, 54, 58, 62, 66, 70, 74, 78, 82, 86, 90, 94, 98, 102, 106, 110, 114, 118, 122, 126, 130, 134, 138, 142, 146, 150, 154, 158, 162, 166, 170, 174, 178, 182, 186, 190, 194, 198, 202, 206, 210, 214, 218, 222, 226, 230, 234, 238, 242, 246, 250, 254, 258, 262, 266, 270, 274, 278, 282, 286, 290, 294, 298, 302, 306, 310, 314, 318, 322, 326, 330, 334, 338, 342, 346, 350, 354, 358, 362, 366, 370, 374, 378, 382, 386, 390, 394, 398, 402, 406, 410, 414, 418, 422, 426, 430, 434, 438, 442, 446, 450, 454, 458, 462, 466, 470, 474, 478, 482, 486, 490, 494, 498, 502, 506, 510]\n",
            "  Overlap 65: frequencies [4, 12, 20, 28, 36, 44, 52, 60, 68, 76, 84, 92, 100, 108, 116, 124, 132, 140, 148, 156, 164, 172, 180, 188, 196, 204, 212, 220, 228, 236, 244, 252, 260, 268, 276, 284, 292, 300, 308, 316, 324, 332, 340, 348, 356, 364, 372, 380, 388, 396, 404, 412, 420, 428, 436, 444, 452, 460, 468, 476, 484, 492, 500, 508]\n",
            "  Overlap 33: frequencies [8, 24, 40, 56, 72, 88, 104, 120, 136, 152, 168, 184, 200, 216, 232, 248, 264, 280, 296, 312, 328, 344, 360, 376, 392, 408, 424, 440, 456, 472, 488, 504]\n",
            "  Overlap 17: frequencies [16, 48, 80, 112, 144, 176, 208, 240, 272, 304, 336, 368, 400, 432, 464, 496]\n",
            "  Overlap 9: frequencies [32, 96, 160, 224, 288, 352, 416, 480]\n",
            "  Overlap 5: frequencies [64, 192, 320, 448]\n",
            "  Overlap 3: frequencies [128, 256, 384]\n",
            "\n",
            "Fundamental 3 accumulator groups:\n",
            "  Overlap 257: frequencies [9, 15, 21, 27, 33, 39, 45, 51, 57, 63, 69, 75, 81, 87, 93, 99, 105, 111, 117, 123, 129, 135, 141, 147, 153, 159, 165, 171, 177, 183, 189, 195, 201, 207, 213, 219, 225, 231, 237, 243, 249, 255, 261, 267, 273, 279, 285, 291, 297, 303, 309, 315, 321, 327, 333, 339, 345, 351, 357, 363, 369, 375, 381, 387, 393, 399, 405, 411, 417, 423, 429, 435, 441, 447, 453, 459, 465, 471, 477, 483, 489, 495, 501, 507]\n",
            "  Overlap 129: frequencies [6, 18, 30, 42, 54, 66, 78, 90, 102, 114, 126, 138, 150, 162, 174, 186, 198, 210, 222, 234, 246, 258, 270, 282, 294, 306, 318, 330, 342, 354, 366, 378, 390, 402, 414, 426, 438, 450, 462, 474, 486, 498, 510]\n",
            "  Overlap 65: frequencies [12, 36, 60, 84, 108, 132, 156, 180, 204, 228, 252, 276, 300, 324, 348, 372, 396, 420, 444, 468, 492]\n",
            "  Overlap 33: frequencies [24, 72, 120, 168, 216, 264, 312, 360, 408, 456, 504]\n",
            "  Overlap 17: frequencies [48, 144, 240, 336, 432]\n",
            "  Overlap 9: frequencies [96, 288, 480]\n",
            "  Overlap 5: frequencies [192]\n",
            "  Overlap 3: frequencies [384]\n",
            "\n",
            "Fundamental 5 accumulator groups:\n",
            "  Overlap 257: frequencies [15, 25, 35, 45, 55, 65, 75, 85, 95, 105, 115, 125, 135, 145, 155, 165, 175, 185, 195, 205, 215, 225, 235, 245, 255, 265, 275, 285, 295, 305, 315, 325, 335, 345, 355, 365, 375, 385, 395, 405, 415, 425, 435, 445, 455, 465, 475, 485, 495, 505]\n",
            "  Overlap 129: frequencies [10, 30, 50, 70, 90, 110, 130, 150, 170, 190, 210, 230, 250, 270, 290, 310, 330, 350, 370, 390, 410, 430, 450, 470, 490, 510]\n",
            "  Overlap 65: frequencies [20, 60, 100, 140, 180, 220, 260, 300, 340, 380, 420, 460, 500]\n",
            "  Overlap 33: frequencies [40, 120, 200, 280, 360, 440]\n",
            "  Overlap 17: frequencies [80, 240, 400]\n",
            "  Overlap 9: frequencies [160, 480]\n",
            "  Overlap 5: frequencies [320]\n",
            "\n",
            "Fundamental 7 accumulator groups:\n",
            "  Overlap 257: frequencies [21, 35, 49, 63, 77, 91, 105, 119, 133, 147, 161, 175, 189, 203, 217, 231, 245, 259, 273, 287, 301, 315, 329, 343, 357, 371, 385, 399, 413, 427, 441, 455, 469, 483, 497, 511]\n",
            "  Overlap 129: frequencies [14, 42, 70, 98, 126, 154, 182, 210, 238, 266, 294, 322, 350, 378, 406, 434, 462, 490]\n",
            "  Overlap 65: frequencies [28, 84, 140, 196, 252, 308, 364, 420, 476]\n",
            "  Overlap 33: frequencies [56, 168, 280, 392, 504]\n",
            "  Overlap 17: frequencies [112, 336]\n",
            "  Overlap 9: frequencies [224]\n",
            "  Overlap 5: frequencies [448]\n",
            "\n",
            "Fundamental 9 accumulator groups:\n",
            "  Overlap 257: frequencies [27, 45, 63, 81, 99, 117, 135, 153, 171, 189, 207, 225, 243, 261, 279, 297, 315, 333, 351, 369, 387, 405, 423, 441, 459, 477, 495]\n",
            "  Overlap 129: frequencies [18, 54, 90, 126, 162, 198, 234, 270, 306, 342, 378, 414, 450, 486]\n",
            "  Overlap 65: frequencies [36, 108, 180, 252, 324, 396, 468]\n",
            "  Overlap 33: frequencies [72, 216, 360, 504]\n",
            "  Overlap 17: frequencies [144, 432]\n",
            "  Overlap 9: frequencies [288]\n"
          ]
        }
      ]
    },
    {
      "cell_type": "code",
      "source": [
        "def sort_symbols_by_frequency(symbolic_matrix):\n",
        "    # Create dictionary of symbol -> list of (freq_bin, real/imag) appearances\n",
        "    symbol_locations = {}\n",
        "\n",
        "    # First scan - map where each symbol appears\n",
        "    for i in range(512):  # frequency bins\n",
        "        # Real part\n",
        "        for s in symbolic_matrix[i,:]:\n",
        "            if s not in symbol_locations:\n",
        "                symbol_locations[s] = []\n",
        "            symbol_locations[s].append((i, 'real'))\n",
        "        # Imaginary part\n",
        "        for s in symbolic_matrix[i+512,:]:\n",
        "            if s not in symbol_locations:\n",
        "                symbol_locations[s] = []\n",
        "            symbol_locations[s].append((i, 'imag'))\n",
        "\n",
        "    # Sort symbols by number of appearances\n",
        "    sorted_symbols = sorted(symbol_locations.items(),\n",
        "                          key=lambda x: len(x[1]),\n",
        "                          reverse=True)\n",
        "\n",
        "    return sorted_symbols\n",
        "\n",
        "symbols = sort_symbols_by_frequency(symbolic_matrix)\n"
      ],
      "metadata": {
        "id": "rb9Axo5hsdry"
      },
      "execution_count": null,
      "outputs": []
    },
    {
      "cell_type": "code",
      "source": [
        "def create_accumulation_paths(symbolic_matrix):\n",
        "    symbol_paths = {}\n",
        "\n",
        "    # For each frequency bin, track its symbol chain\n",
        "    for i in range(512):\n",
        "        bin_symbols = set()\n",
        "        # Get both real and imaginary symbols\n",
        "        bin_symbols.update(symbolic_matrix[i,:])\n",
        "        bin_symbols.update(symbolic_matrix[i+512,:])\n",
        "\n",
        "        # Find harmonically related bins that share symbols\n",
        "        harmonics = [j for j in range(i+1, 512) if j % i == 0] if i > 0 else []\n",
        "\n",
        "        # Create path through shared symbols\n",
        "        symbol_paths[i] = {\n",
        "            'symbols': bin_symbols,\n",
        "            'harmonics': harmonics,\n",
        "            'shared_symbols': {}\n",
        "        }\n",
        "\n",
        "        # Track shared symbols with each harmonic\n",
        "        for h in harmonics:\n",
        "            h_symbols = set()\n",
        "            h_symbols.update(symbolic_matrix[h,:])\n",
        "            h_symbols.update(symbolic_matrix[h+512,:])\n",
        "            symbol_paths[i]['shared_symbols'][h] = bin_symbols.intersection(h_symbols)\n",
        "\n",
        "    return symbol_paths\n",
        "\n",
        "symbol_paths = create_accumulation_paths(symbolic_matrix)"
      ],
      "metadata": {
        "id": "yTdG3tPktNaM"
      },
      "execution_count": null,
      "outputs": []
    },
    {
      "cell_type": "code",
      "source": [
        "def create_sub_accumulators(symbol_paths):\n",
        "   # Extract numeric index from symbol name (v_n -> n)\n",
        "   def get_symbol_index(symbol):\n",
        "       return int(str(symbol).split('_')[1])\n",
        "\n",
        "   accumulators = {}\n",
        "   for freq, path_info in symbol_paths.items():\n",
        "       for harmonic, shared in path_info['shared_symbols'].items():\n",
        "           if shared:  # if there are shared symbols\n",
        "               # Convert symbols to their numeric indices for the key\n",
        "               indices = tuple(sorted(get_symbol_index(s) for s in shared))\n",
        "               if indices not in accumulators:\n",
        "                   accumulators[indices] = {'freqs': set(), 'symbols': shared}\n",
        "               accumulators[indices]['freqs'].update([freq, harmonic])\n",
        "\n",
        "   return accumulators\n",
        "\n",
        "sub_accumulators = create_sub_accumulators(symbol_paths)"
      ],
      "metadata": {
        "id": "bBo9AeRMuISe"
      },
      "execution_count": null,
      "outputs": []
    },
    {
      "cell_type": "code",
      "source": [
        "def create_sub_accumulators(symbol_paths):\n",
        "    def get_symbol_index(symbol):\n",
        "        return int(str(symbol).split('_')[1])\n",
        "\n",
        "    # Create position lookup once\n",
        "    symbol_positions = {}  # symbol_idx -> list of (freq, real/imag, position)\n",
        "\n",
        "    # First pass: gather all symbol positions\n",
        "    for freq in range(512):\n",
        "        # Real part\n",
        "        for pos, symbol in enumerate(symbolic_matrix[freq,:]):\n",
        "            idx = get_symbol_index(symbol)\n",
        "            if idx not in symbol_positions:\n",
        "                symbol_positions[idx] = []\n",
        "            symbol_positions[idx].append((freq, 'real', pos))\n",
        "\n",
        "        # Imaginary part\n",
        "        for pos, symbol in enumerate(symbolic_matrix[freq+512,:]):\n",
        "            idx = get_symbol_index(symbol)\n",
        "            if idx not in symbol_positions:\n",
        "                symbol_positions[idx] = []\n",
        "            symbol_positions[idx].append((freq, 'imag', pos))\n",
        "\n",
        "    accumulators = {}\n",
        "    for freq, path_info in symbol_paths.items():\n",
        "        for harmonic, shared in path_info['shared_symbols'].items():\n",
        "            if shared:\n",
        "                indices = tuple(sorted(get_symbol_index(s) for s in shared))\n",
        "                if indices not in accumulators:\n",
        "                    positions = {get_symbol_index(s): symbol_positions[get_symbol_index(s)]\n",
        "                               for s in shared}\n",
        "                    accumulators[indices] = {\n",
        "                        'freqs': set(),\n",
        "                        'symbols': shared,\n",
        "                        'positions': positions\n",
        "                    }\n",
        "                accumulators[indices]['freqs'].update([freq, harmonic])\n",
        "\n",
        "    return accumulators, symbol_positions  # Return both structures\n",
        "\n",
        "# Now let's create both\n",
        "sub_accumulators, symbol_positions = create_sub_accumulators(symbol_paths)\n",
        "\n"
      ],
      "metadata": {
        "id": "MJYqbbSqvMA-"
      },
      "execution_count": null,
      "outputs": []
    },
    {
      "cell_type": "code",
      "source": [
        "first_key = list(sub_accumulators.keys())[0]\n",
        "print(\"Structure of first accumulator:\")\n",
        "print(sub_accumulators[first_key].keys())"
      ],
      "metadata": {
        "id": "sO-5XU2KwBsR",
        "outputId": "b6b887cb-4c87-4378-bb52-a82649b2f16f",
        "colab": {
          "base_uri": "https://localhost:8080/"
        }
      },
      "execution_count": null,
      "outputs": [
        {
          "output_type": "stream",
          "name": "stdout",
          "text": [
            "Structure of first accumulator:\n",
            "dict_keys(['freqs', 'symbols', 'positions'])\n"
          ]
        }
      ]
    },
    {
      "cell_type": "code",
      "source": [
        "def apply_sub_accumulators(signal, accumulators, unique_values):\n",
        "   N = len(signal)\n",
        "   results = {freq: complex(0,0) for freq in range(N)}\n",
        "\n",
        "   for indices, acc_info in accumulators.items():\n",
        "       shared_results = {}  # freq -> (real, imag)\n",
        "\n",
        "       for symbol_idx, positions in acc_info['positions'].items():\n",
        "           for freq, part, pos in positions:\n",
        "               if freq not in shared_results:\n",
        "                   shared_results[freq] = [0, 0]  # [real, imag]\n",
        "\n",
        "               twiddle = unique_values[symbol_idx]\n",
        "               value = signal[pos] * twiddle\n",
        "\n",
        "               # Apply scaling based on frequency and part\n",
        "               if freq < N//2:  # First half\n",
        "                   if part == 'real' and freq == 126:\n",
        "                       # No scaling for bin 126 real part\n",
        "                       shared_results[freq][0] += value\n",
        "                   else:\n",
        "                       # Scale by 1/2 for all other first half frequencies\n",
        "                       value = value / 2\n",
        "                       if part == 'real':\n",
        "                           shared_results[freq][0] += value\n",
        "                       else:  # 'imag'\n",
        "                           shared_results[freq][1] += value\n",
        "               else:\n",
        "                   # No scaling needed for second half\n",
        "                   if part == 'real':\n",
        "                       shared_results[freq][0] += value\n",
        "                   else:  # 'imag'\n",
        "                       shared_results[freq][1] += value\n",
        "\n",
        "       for freq in acc_info['freqs']:\n",
        "           if freq in shared_results:\n",
        "               real, imag = shared_results[freq]\n",
        "               results[freq] += complex(real, imag)\n",
        "\n",
        "   return results\n",
        "\n",
        "# Create test signal and compare\n",
        "test_signal = np.random.random(512) + 6* np.sin(np.linspace(0, 50 * np.pi, 512))\n",
        "import time\n",
        "then = time.time()\n",
        "result = apply_sub_accumulators(test_signal, sub_accumulators,unique_values)\n",
        "print(time.time() - then)\n",
        "result_array = np.array([result[i] for i in range(512)])\n",
        "\n",
        "# Compare with numpy's FFT\n",
        "np_fft = np.fft.fft(test_signal)\n",
        "\n",
        "print(\"First few frequencies comparison:\")\n",
        "print(\"Freq | Our DFT           | Numpy FFT\")\n",
        "print(\"-\" * 45)\n",
        "for i in range(5):\n",
        "   print(f\"{i:4d} | {result[i]:15.8f} | {np_fft[i]:15.8f}\")"
      ],
      "metadata": {
        "id": "9QL1hekHwN9O",
        "outputId": "cb395f2f-ef13-411e-e6b2-620ac394c88d",
        "colab": {
          "base_uri": "https://localhost:8080/"
        }
      },
      "execution_count": null,
      "outputs": [
        {
          "output_type": "stream",
          "name": "stdout",
          "text": [
            "1.8349359035491943\n",
            "First few frequencies comparison:\n",
            "Freq | Our DFT           | Numpy FFT\n",
            "---------------------------------------------\n",
            "   0 | 0.00000000+0.00000000j | 264.76935998+0.00000000j\n",
            "   1 | -13.42578500-16.93380713j | -9.12070970+1.81817954j\n",
            "   2 | -4.12290957+0.87634130j | -0.28303797-3.02376837j\n",
            "   3 | -2.62487292+7.58923158j | -0.66900912+2.57344230j\n",
            "   4 | -10.98215539-14.87693499j | -5.18046779-9.40886523j\n"
          ]
        }
      ]
    },
    {
      "cell_type": "code",
      "source": [
        "print(np.argmax(np.abs(np_fft.real[0:200] - (result_array.real/2)[0:200])[1:]))\n"
      ],
      "metadata": {
        "id": "ra0zNQnZw7v4",
        "outputId": "a5ea451b-9594-42df-fd99-1e9d02e31370",
        "colab": {
          "base_uri": "https://localhost:8080/"
        }
      },
      "execution_count": null,
      "outputs": [
        {
          "output_type": "stream",
          "name": "stdout",
          "text": [
            "19\n"
          ]
        }
      ]
    },
    {
      "cell_type": "code",
      "source": [
        "plt.plot(np_fft.real)\n"
      ],
      "metadata": {
        "id": "jOFeO16FxWyl",
        "outputId": "3306a649-0ec6-4e29-ed53-62a0cb2f23a7",
        "colab": {
          "base_uri": "https://localhost:8080/",
          "height": 447
        }
      },
      "execution_count": null,
      "outputs": [
        {
          "output_type": "execute_result",
          "data": {
            "text/plain": [
              "[<matplotlib.lines.Line2D at 0x7e58c89801f0>]"
            ]
          },
          "metadata": {},
          "execution_count": 102
        },
        {
          "output_type": "display_data",
          "data": {
            "text/plain": [
              "<Figure size 640x480 with 1 Axes>"
            ],
            "image/png": "[encoded data removed]"
          },
          "metadata": {}
        }
      ]
    },
    {
      "cell_type": "code",
      "source": [
        "plt.plot(result_array.real)\n"
      ],
      "metadata": {
        "id": "ohUB23fb1DPK",
        "outputId": "1d75c29b-cc3e-4513-8846-bcd4aa67fa4f",
        "colab": {
          "base_uri": "https://localhost:8080/",
          "height": 447
        }
      },
      "execution_count": null,
      "outputs": [
        {
          "output_type": "execute_result",
          "data": {
            "text/plain": [
              "[<matplotlib.lines.Line2D at 0x7e58c8e8b040>]"
            ]
          },
          "metadata": {},
          "execution_count": 100
        },
        {
          "output_type": "display_data",
          "data": {
            "text/plain": [
              "<Figure size 640x480 with 1 Axes>"
            ],
            "image/png": "[encoded data removed]"
          },
          "metadata": {}
        }
      ]
    },
    {
      "cell_type": "code",
      "source": [
        "def count_operations(signal, accumulators, unique_values):\n",
        "    multiplies = 0\n",
        "    additions = 0\n",
        "    memory_accesses = 0\n",
        "\n",
        "    for indices, acc_info in accumulators.items():\n",
        "        for symbol_idx, positions in acc_info['positions'].items():\n",
        "            for freq, part, pos in positions:\n",
        "                # Count each operation:\n",
        "                memory_accesses += 2  # Access signal and twiddle factor\n",
        "                multiplies += 1       # signal * twiddle\n",
        "                additions += 1        # accumulation\n",
        "\n",
        "    return {\n",
        "        'multiplies': multiplies,\n",
        "        'additions': additions,\n",
        "        'memory_accesses': memory_accesses\n",
        "    }\n",
        "\n",
        "print(count_operations(test_signal,sub_accumulators,unique_values))"
      ],
      "metadata": {
        "id": "l4xfgo4L11NK",
        "outputId": "71b43ea5-2ba1-4c46-abf5-04b7aa06e05c",
        "colab": {
          "base_uri": "https://localhost:8080/"
        }
      },
      "execution_count": null,
      "outputs": [
        {
          "output_type": "stream",
          "name": "stdout",
          "text": [
            "{'multiplies': 1550336, 'additions': 1550336, 'memory_accesses': 3100672}\n"
          ]
        }
      ]
    },
    {
      "cell_type": "markdown",
      "source": [
        "everything below this line is a work in process"
      ],
      "metadata": {
        "id": "NG-0lOh23rOK"
      }
    },
    {
      "cell_type": "code",
      "source": [
        "def extract_computation_sequence(accumulators, unique_values):\n",
        "   # Create parallel arrays for our computation sequence\n",
        "   positions = []\n",
        "   twiddle_factors = []\n",
        "   output_bins = []\n",
        "\n",
        "   for indices, acc_info in accumulators.items():\n",
        "       for symbol_idx, pos_list in acc_info['positions'].items():\n",
        "           twiddle = unique_values[symbol_idx]\n",
        "           for freq, part, pos in pos_list:\n",
        "               positions.append(pos)\n",
        "               twiddle_factors.append(twiddle)\n",
        "               output_bins.append(freq)\n",
        "\n",
        "   return (np.array(positions),\n",
        "           np.array(twiddle_factors, dtype=np.complex128),\n",
        "           np.array(output_bins))\n",
        "\n",
        "# Extract sequence\n",
        "pos_array, twiddle_array, bin_array = extract_computation_sequence(sub_accumulators, unique_values)\n",
        "import numba\n",
        "# Create Numba function\n",
        "@numba.jit(nopython=True)\n",
        "def ordered_dft_compute(signal, positions, twiddle_factors, output_bins):\n",
        "   results = np.zeros(512, dtype=np.complex128)\n",
        "\n",
        "   for i in range(len(positions)):\n",
        "       pos = positions[i]\n",
        "       twiddle = twiddle_factors[i]\n",
        "       bin_idx = output_bins[i]\n",
        "       results[bin_idx] += signal[pos] * twiddle\n",
        "\n",
        "   return results"
      ],
      "metadata": {
        "id": "s40T8mog25Xk"
      },
      "execution_count": null,
      "outputs": []
    },
    {
      "cell_type": "code",
      "source": [
        "then = time.time()\n",
        "result = ordered_dft_compute(test_signal, pos_array, twiddle_array, bin_array)\n",
        "print(time.time() - then)"
      ],
      "metadata": {
        "id": "1aQbKdoB288J",
        "outputId": "263c442e-35f3-4725-a2ec-63fa25bbb5a6",
        "colab": {
          "base_uri": "https://localhost:8080/"
        }
      },
      "execution_count": null,
      "outputs": [
        {
          "output_type": "stream",
          "name": "stdout",
          "text": [
            "0.009353160858154297\n"
          ]
        }
      ]
    },
    {
      "cell_type": "code",
      "source": [
        "plt.plot(result.imag)"
      ],
      "metadata": {
        "id": "vFPEXUaw3D58",
        "outputId": "1b21e136-d260-4d94-a6c5-8541c9066d52",
        "colab": {
          "base_uri": "https://localhost:8080/",
          "height": 447
        }
      },
      "execution_count": null,
      "outputs": [
        {
          "output_type": "execute_result",
          "data": {
            "text/plain": [
              "[<matplotlib.lines.Line2D at 0x7e58c5b8bee0>]"
            ]
          },
          "metadata": {},
          "execution_count": 118
        },
        {
          "output_type": "display_data",
          "data": {
            "text/plain": [
              "<Figure size 640x480 with 1 Axes>"
            ],
            "image/png": "[encoded data removed]"
          },
          "metadata": {}
        }
      ]
    },
    {
      "cell_type": "code",
      "source": [
        "def extract_hierarchical_sequence(accumulators, unique_values):\n",
        "    # Keep track of which accumulators feed into others\n",
        "    computation_groups = []\n",
        "\n",
        "    for indices, acc_info in accumulators.items():\n",
        "        group = {\n",
        "            'positions': [],\n",
        "            'twiddles': [],\n",
        "            'output_bins': [],\n",
        "            'freqs': list(acc_info['freqs'])  # frequencies this group contributes to\n",
        "        }\n",
        "\n",
        "        for symbol_idx, pos_list in acc_info['positions'].items():\n",
        "            twiddle = unique_values[symbol_idx]\n",
        "            for freq, part, pos in pos_list:\n",
        "                group['positions'].append(pos)\n",
        "                group['twiddles'].append(twiddle)\n",
        "                group['output_bins'].append(freq)\n",
        "\n",
        "        computation_groups.append(group)\n",
        "\n",
        "    return computation_groups\n",
        "\n",
        "computation_groups = extract_hierarchical_sequence(sub_accumulators, unique_values)\n",
        "\n",
        "@numba.jit(nopython=True)\n",
        "def hierarchical_dft_compute(signal, computation_groups):\n",
        "    results = np.zeros(512, dtype=np.complex128)\n",
        "\n",
        "    for group in computation_groups:\n",
        "        group_result = np.zeros(512, dtype=np.complex128)\n",
        "\n",
        "        # Compute this group's contribution\n",
        "        for i in range(len(group['positions'])):\n",
        "            pos = group['positions'][i]\n",
        "            twiddle = group['twiddles'][i]\n",
        "            bin_idx = group['output_bins'][i]\n",
        "            group_result[bin_idx] += signal[pos] * twiddle\n",
        "\n",
        "        # Apply to appropriate frequency bins\n",
        "        for freq in group['freqs']:\n",
        "            results[freq] += group_result[freq]\n",
        "\n",
        "    return results\n",
        "\n",
        "result = hierarchical_dft_compute(test_signal, computation_groups)"
      ],
      "metadata": {
        "id": "K8kN3inV3XNu",
        "outputId": "00272077-059a-4440-ee9a-11bfa6c60a08",
        "colab": {
          "base_uri": "https://localhost:8080/",
          "height": 530
        }
      },
      "execution_count": null,
      "outputs": [
        {
          "output_type": "error",
          "ename": "TypingError",
          "evalue": "Failed in nopython mode pipeline (step: nopython frontend)\nnon-precise type pyobject\nDuring: typing of argument at <ipython-input-119-f56583340b2f> (26)\n\nFile \"<ipython-input-119-f56583340b2f>\", line 26:\ndef extract_hierarchical_sequence(accumulators, unique_values):\n    <source elided>\n\n@numba.jit(nopython=True)\n^ \n\nThis error may have been caused by the following argument(s):\n- argument 1: Cannot type list element type <class 'dict'>\n",
          "traceback": [
            "\u001b[0;31m---------------------------------------------------------------------------\u001b[0m",
            "\u001b[0;31mTypingError\u001b[0m                               Traceback (most recent call last)",
            "\u001b[0;32m<ipython-input-119-f56583340b2f>\u001b[0m in \u001b[0;36m<cell line: 46>\u001b[0;34m()\u001b[0m\n\u001b[1;32m     44\u001b[0m     \u001b[0;32mreturn\u001b[0m \u001b[0mresults\u001b[0m\u001b[0;34m\u001b[0m\u001b[0;34m\u001b[0m\u001b[0m\n\u001b[1;32m     45\u001b[0m \u001b[0;34m\u001b[0m\u001b[0m\n\u001b[0;32m---> 46\u001b[0;31m \u001b[0mresult\u001b[0m \u001b[0;34m=\u001b[0m \u001b[0mhierarchical_dft_compute\u001b[0m\u001b[0;34m(\u001b[0m\u001b[0mtest_signal\u001b[0m\u001b[0;34m,\u001b[0m \u001b[0mcomputation_groups\u001b[0m\u001b[0;34m)\u001b[0m\u001b[0;34m\u001b[0m\u001b[0;34m\u001b[0m\u001b[0m\n\u001b[0m",
            "\u001b[0;32m/usr/local/lib/python3.10/dist-packages/numba/core/dispatcher.py\u001b[0m in \u001b[0;36m_compile_for_args\u001b[0;34m(self, *args, **kws)\u001b[0m\n\u001b[1;32m    421\u001b[0m                 \u001b[0me\u001b[0m\u001b[0;34m.\u001b[0m\u001b[0mpatch_message\u001b[0m\u001b[0;34m(\u001b[0m\u001b[0mmsg\u001b[0m\u001b[0;34m)\u001b[0m\u001b[0;34m\u001b[0m\u001b[0;34m\u001b[0m\u001b[0m\n\u001b[1;32m    422\u001b[0m \u001b[0;34m\u001b[0m\u001b[0m\n\u001b[0;32m--> 423\u001b[0;31m             \u001b[0merror_rewrite\u001b[0m\u001b[0;34m(\u001b[0m\u001b[0me\u001b[0m\u001b[0;34m,\u001b[0m \u001b[0;34m'typing'\u001b[0m\u001b[0;34m)\u001b[0m\u001b[0;34m\u001b[0m\u001b[0;34m\u001b[0m\u001b[0m\n\u001b[0m\u001b[1;32m    424\u001b[0m         \u001b[0;32mexcept\u001b[0m \u001b[0merrors\u001b[0m\u001b[0;34m.\u001b[0m\u001b[0mUnsupportedError\u001b[0m \u001b[0;32mas\u001b[0m \u001b[0me\u001b[0m\u001b[0;34m:\u001b[0m\u001b[0;34m\u001b[0m\u001b[0;34m\u001b[0m\u001b[0m\n\u001b[1;32m    425\u001b[0m             \u001b[0;31m# Something unsupported is present in the user code, add help info\u001b[0m\u001b[0;34m\u001b[0m\u001b[0;34m\u001b[0m\u001b[0m\n",
            "\u001b[0;32m/usr/local/lib/python3.10/dist-packages/numba/core/dispatcher.py\u001b[0m in \u001b[0;36merror_rewrite\u001b[0;34m(e, issue_type)\u001b[0m\n\u001b[1;32m    362\u001b[0m                 \u001b[0;32mraise\u001b[0m \u001b[0me\u001b[0m\u001b[0;34m\u001b[0m\u001b[0;34m\u001b[0m\u001b[0m\n\u001b[1;32m    363\u001b[0m             \u001b[0;32melse\u001b[0m\u001b[0;34m:\u001b[0m\u001b[0;34m\u001b[0m\u001b[0;34m\u001b[0m\u001b[0m\n\u001b[0;32m--> 364\u001b[0;31m                 \u001b[0;32mraise\u001b[0m \u001b[0me\u001b[0m\u001b[0;34m.\u001b[0m\u001b[0mwith_traceback\u001b[0m\u001b[0;34m(\u001b[0m\u001b[0;32mNone\u001b[0m\u001b[0;34m)\u001b[0m\u001b[0;34m\u001b[0m\u001b[0;34m\u001b[0m\u001b[0m\n\u001b[0m\u001b[1;32m    365\u001b[0m \u001b[0;34m\u001b[0m\u001b[0m\n\u001b[1;32m    366\u001b[0m         \u001b[0margtypes\u001b[0m \u001b[0;34m=\u001b[0m \u001b[0;34m[\u001b[0m\u001b[0;34m]\u001b[0m\u001b[0;34m\u001b[0m\u001b[0;34m\u001b[0m\u001b[0m\n",
            "\u001b[0;31mTypingError\u001b[0m: Failed in nopython mode pipeline (step: nopython frontend)\nnon-precise type pyobject\nDuring: typing of argument at <ipython-input-119-f56583340b2f> (26)\n\nFile \"<ipython-input-119-f56583340b2f>\", line 26:\ndef extract_hierarchical_sequence(accumulators, unique_values):\n    <source elided>\n\n@numba.jit(nopython=True)\n^ \n\nThis error may have been caused by the following argument(s):\n- argument 1: Cannot type list element type <class 'dict'>\n"
          ]
        }
      ]
    }
  ],
  "metadata": {
    "colab": {
      "name": "Welcome To Colab",
      "toc_visible": true,
      "provenance": [],
      "include_colab_link": true
    },
    "kernelspec": {
      "display_name": "Python 3",
      "name": "python3"
    }
  },
  "nbformat": 4,
  "nbformat_minor": 0
}